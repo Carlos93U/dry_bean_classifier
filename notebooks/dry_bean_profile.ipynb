{
 "cells": [
  {
   "cell_type": "markdown",
   "metadata": {},
   "source": [
    "<center>\n",
    "\n",
    "# `Dry Bean Classifier - Multiclass Logistic Regression`\n",
    "\n",
    "<img src=\"../assets/img.png\" alt=\"Texto alternativo\" width=\"1000\">\n",
    "\n",
    "</center>"
   ]
  },
  {
   "cell_type": "markdown",
   "metadata": {},
   "source": [
    "# `About data`"
   ]
  },
  {
   "cell_type": "markdown",
   "metadata": {},
   "source": [
    "* `Area (A)`: The area of a bean zone and the number of pixels within its boundaries.\n",
    "* `Perimeter (P)`: Bean circumference is defined as the length of its border.\n",
    "* `Major axis length (L)`: The distance between the ends of the longest line that can be drawn from a bean.\n",
    "* `Minor axis length (l)`: The longest line that can be drawn from the bean while standing perpendicular to the main axis.\n",
    "* `Aspect ratio (K)`: Defines the relationship between L and l.\n",
    "* `Eccentricity (Ec)`: Eccentricity of the ellipse having the same moments as the region.\n",
    "* `Convex area (C)`: Number of pixels in the smallest convex polygon that can contain the area of a bean seed.\n",
    "* `Equivalent diameter (Ed)`: The diameter of a circle having the same area as a bean seed area.\n",
    "* `Extent (Ex)`: The ratio of the pixels in the bounding box to the bean area.\n",
    "* `Solidity (S)`: Also known as convexity. The ratio of the pixels in the convex shell to those found in beans.\n",
    "* `Roundness (R)`: Calculated with the following formula: (4piA)/(P^2)\n",
    "* `Compactness (CO)`: Measures the roundness of an object: Ed/L\n",
    "* `ShapeFactor1 (SF1)`\n",
    "* `ShapeFactor2 (SF2)`\n",
    "* `ShapeFactor3 (SF3)`\n",
    "* `ShapeFactor4 (SF4)`\n",
    "* `Class` : Seker, Barbunya, Bombay, Cali, Dermosan, Horoz and Sira"
   ]
  },
  {
   "cell_type": "code",
   "execution_count": null,
   "metadata": {},
   "outputs": [],
   "source": [
    "import pandas as pd\n",
    "from ydata_profiling import ProfileReport\n",
    "\n",
    "df = pd.read_csv('../data/dry_bean_data.csv')\n",
    "profile = ProfileReport(df, title=\"Brief Report about dataset\", explorative=True)\n",
    "profile.to_file(\"../outputs/dry_bean_profile.html\")"
   ]
  }
 ],
 "metadata": {
  "language_info": {
   "name": "python"
  }
 },
 "nbformat": 4,
 "nbformat_minor": 2
}
